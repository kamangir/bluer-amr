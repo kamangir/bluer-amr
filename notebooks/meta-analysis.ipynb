{
 "cells": [
  {
   "attachments": {},
   "cell_type": "markdown",
   "metadata": {},
   "source": [
    "# 🔬 meta analysis"
   ]
  },
  {
   "cell_type": "code",
   "execution_count": 1,
   "metadata": {},
   "outputs": [
    {
     "name": "stderr",
     "output_type": "stream",
     "text": [
      "🌀  bluer_sandbox-5.121.1.bluer_ai-12.153.1.bluer_objects-6.133.1.bluer_options-5.108.1.torch-2.2.2.Python 3.12.9.Darwin 23.6.0..Jupyter-Notebook,\n",
      "built on 26 May 2025, 20:57:29\n"
     ]
    }
   ],
   "source": [
    "from bluer_sandbox import notebooks\n",
    "\n",
    "from bluer_options import string\n",
    "from bluer_objects import objects, testing, storage\n",
    "\n",
    "from bluer_sandbox.host import signature\n",
    "from bluer_sandbox.logger import logger\n",
    "\n",
    "logger.info(f\"{'.'.join(signature())},\\nbuilt on {string.pretty_date()}\")"
   ]
  },
  {
   "cell_type": "code",
   "execution_count": 2,
   "metadata": {},
   "outputs": [],
   "source": [
    "object_name = \"amr-meta-analysis-v1\""
   ]
  },
  {
   "cell_type": "code",
   "execution_count": 3,
   "metadata": {},
   "outputs": [
    {
     "name": "stderr",
     "output_type": "stream",
     "text": [
      "  0%|          | 0/4 [00:00<?, ?it/s]🌀  WebDAVRequestInterface.download amr-meta-analysis-v1/AMR%20Cholera%20obj%201%20clean%202.csv\n",
      " 25%|██▌       | 1/4 [00:04<00:12,  4.20s/it]🌀  WebDAVRequestInterface.download amr-meta-analysis-v1/AMR%20Cholera%20obj%202%20clean%203.xlsx\n",
      " 50%|█████     | 2/4 [00:08<00:08,  4.48s/it]🌀  WebDAVRequestInterface.download amr-meta-analysis-v1/AMR%20Cholera%20obj%202%20titles.csv\n",
      " 75%|███████▌  | 3/4 [00:13<00:04,  4.38s/it]🌀  WebDAVRequestInterface.download amr-meta-analysis-v1/AMR%20Cholera%20obj1%20titles.csv\n",
      "100%|██████████| 4/4 [00:17<00:00,  4.36s/it]\n"
     ]
    }
   ],
   "source": [
    "assert storage.download(object_name)"
   ]
  },
  {
   "cell_type": "code",
   "execution_count": 7,
   "metadata": {},
   "outputs": [
    {
     "data": {
      "text/plain": [
       "(True,\n",
       " ['AMR Cholera obj 1 clean 2.csv',\n",
       "  'AMR Cholera obj 2 clean 3.xlsx',\n",
       "  'AMR Cholera obj 2 titles.csv',\n",
       "  'AMR Cholera obj1 titles.csv',\n",
       "  'AMR%20Cholera%20obj%201%20clean%202.csv',\n",
       "  'AMR%20Cholera%20obj%202%20clean%203.xlsx',\n",
       "  'AMR%20Cholera%20obj%202%20titles.csv',\n",
       "  'AMR%20Cholera%20obj1%20titles.csv'])"
      ]
     },
     "execution_count": 7,
     "metadata": {},
     "output_type": "execute_result"
    }
   ],
   "source": [
    "storage.ls(object_name)"
   ]
  },
  {
   "attachments": {},
   "cell_type": "markdown",
   "metadata": {},
   "source": [
    "---"
   ]
  },
  {
   "cell_type": "code",
   "execution_count": 4,
   "metadata": {},
   "outputs": [
    {
     "name": "stderr",
     "output_type": "stream",
     "text": [
      "🌀  Hello World! 🪄\n"
     ]
    }
   ],
   "source": [
    "logger.info(\"Hello World! 🪄\")"
   ]
  },
  {
   "attachments": {},
   "cell_type": "markdown",
   "metadata": {},
   "source": [
    "---"
   ]
  },
  {
   "cell_type": "code",
   "execution_count": 5,
   "metadata": {},
   "outputs": [],
   "source": [
    "# assert notebooks.upload(object_name)"
   ]
  },
  {
   "cell_type": "code",
   "execution_count": 6,
   "metadata": {},
   "outputs": [],
   "source": [
    "# END"
   ]
  }
 ],
 "metadata": {
  "kernelspec": {
   "display_name": "base",
   "language": "python",
   "name": "python3"
  },
  "language_info": {
   "codemirror_mode": {
    "name": "ipython",
    "version": 3
   },
   "file_extension": ".py",
   "mimetype": "text/x-python",
   "name": "python",
   "nbconvert_exporter": "python",
   "pygments_lexer": "ipython3",
   "version": "3.12.9"
  },
  "toc": {
   "base_numbering": 1,
   "nav_menu": {},
   "number_sections": true,
   "sideBar": true,
   "skip_h1_title": false,
   "title_cell": "Table of Contents",
   "title_sidebar": "Contents",
   "toc_cell": false,
   "toc_position": {},
   "toc_section_display": true,
   "toc_window_display": false
  }
 },
 "nbformat": 4,
 "nbformat_minor": 2
}
